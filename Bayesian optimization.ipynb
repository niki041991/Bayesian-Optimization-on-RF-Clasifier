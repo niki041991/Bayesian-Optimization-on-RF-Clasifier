{
 "cells": [
  {
   "cell_type": "code",
   "execution_count": 10,
   "id": "6b9a3e72-cfe7-4391-8194-c6b8e19da066",
   "metadata": {},
   "outputs": [
    {
     "name": "stdout",
     "output_type": "stream",
     "text": [
      "Fold accuracy: 0.9844\n",
      "Best hyperparameters: OrderedDict({'criterion': 'entropy', 'max_depth': 12, 'min_samples_leaf': 1, 'min_samples_split': 2, 'n_estimators': 100})\n"
     ]
    }
   ],
   "source": [
    "import pandas as pd\n",
    "from sklearn.ensemble import RandomForestClassifier\n",
    "from sklearn.model_selection import StratifiedKFold\n",
    "from sklearn.metrics import accuracy_score\n",
    "from skopt import BayesSearchCV\n",
    "from sklearn.preprocessing import MinMaxScaler, LabelEncoder\n",
    "from imblearn.combine import SMOTEENN\n",
    "from collections import Counter\n",
    "import numpy as np\n",
    "\n",
    "# Load and preprocess the data\n",
    "data = pd.read_excel(r'F:\\objectives\\PHD_Objective_4a\\PDSWEDD.xlsx')\n",
    "data1 = data.drop(['PATNO', 'age', 'NHY_ON', 'Class'], axis=1)\n",
    "\n",
    "scaler = MinMaxScaler()\n",
    "normalized_data = scaler.fit_transform(data1)\n",
    "data1new = pd.DataFrame(normalized_data, columns=data1.columns)\n",
    "\n",
    "feature_columns = ['A', 'B', 'C', 'D', 'E', 'F', 'G', 'H', 'I']\n",
    "\n",
    "X = data1new[feature_columns]\n",
    "y = data['Class']\n",
    "\n",
    "smote_enn = SMOTEENN(random_state=10)\n",
    "X_resampled, y_resampled = smote_enn.fit_resample(X, y)\n",
    "\n",
    "label_encoder = LabelEncoder()\n",
    "label_encoded_y = label_encoder.fit_transform(y_resampled)\n",
    "\n",
    "# Outer stratified cross-validation\n",
    "outer_cv = StratifiedKFold(n_splits=5, shuffle=True, random_state=42)\n",
    "\n",
    "# Define the parameter search space\n",
    "param_space = {\n",
    "    'n_estimators': [50, 60, 80, 90, 100, 110, 120],\n",
    "    'criterion': ['entropy', 'gini'],\n",
    "    'max_depth': [5, 7, 10, 12, 15, 20],\n",
    "    'min_samples_leaf': [1, 2, 3, 5, 7, 9, 10],\n",
    "    'min_samples_split': [2, 3, 4, 5, 6, 7, 8, 9, 10]\n",
    "}\n",
    "\n",
    "# Initialize array to store results\n",
    "outer_results = []\n",
    "\n",
    "# Nested cross-validation\n",
    "for train_idx, test_idx in outer_cv.split(X_resampled, label_encoded_y):\n",
    "    # Split data into training and testing sets\n",
    "    X_train, X_test = X_resampled.iloc[train_idx], X_resampled.iloc[test_idx]\n",
    "    y_train, y_test = label_encoded_y[train_idx], label_encoded_y[test_idx]\n",
    "\n",
    "    # Inner stratified cross-validation for hyperparameter tuning\n",
    "    inner_cv = StratifiedKFold(n_splits=5, shuffle=True, random_state=42)\n",
    "    \n",
    "    # Define Bayesian optimization search\n",
    "    bayes_search = BayesSearchCV(\n",
    "        estimator=RandomForestClassifier(random_state=42),\n",
    "        search_spaces=param_space,\n",
    "        n_iter=30,  # Number of iterations for optimization\n",
    "        cv=inner_cv,\n",
    "        n_jobs=-1,\n",
    "        verbose=0,\n",
    "        random_state=42\n",
    "    )\n",
    "    \n",
    "    # Fit the Bayesian optimizer\n",
    "    bayes_search.fit(X_train, y_train)\n",
    "\n",
    "    # Evaluate on the outer fold's test set\n",
    "    best_model = bayes_search.best_estimator_\n",
    "    y_pred = best_model.predict(X_test)\n",
    "    accuracy = accuracy_score(y_test, y_pred)\n",
    "    outer_results.append(accuracy)\n",
    "\n",
      ]
  },
  {
   "cell_type": "code",
   "execution_count": null,
   "id": "57d447fb-6a9d-467f-86dd-a1772b4eabff",
   "metadata": {},
   "outputs": [],
   "source": []
  }
 ],
 "metadata": {
  "kernelspec": {
   "display_name": "Python 3 (ipykernel)",
   "language": "python",
   "name": "python3"
  },
  "language_info": {
   "codemirror_mode": {
    "name": "ipython",
    "version": 3
   },
   "file_extension": ".py",
   "mimetype": "text/x-python",
   "name": "python",
   "nbconvert_exporter": "python",
   "pygments_lexer": "ipython3",
   "version": "3.12.4"
  }
 },
 "nbformat": 4,
 "nbformat_minor": 5
}
